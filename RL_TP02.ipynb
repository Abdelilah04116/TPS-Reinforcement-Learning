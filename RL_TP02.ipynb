{
 "cells": [
  {
   "cell_type": "markdown",
   "metadata": {},
   "source": [
    "<Font size='6pt' color='blue'><center>RL_TP02<center/></Font>"
   ]
  },
  {
   "cell_type": "markdown",
   "metadata": {},
   "source": [
    "### ❄️ TP - Exploration du Q-Learning avec FrozenLake\n",
    "\n",
    "#### 🎯 Objectif du TP\n",
    "L'objectif de ce TP est de mettre en pratique les concepts fondamentaux de l'**apprentissage par renforcement** à travers l’algorithme **Q-Learning**.\n",
    "\n",
    "#### 📌 Contenu du TP\n",
    "Au fil d’exercices progressifs, les étudiants vont :\n",
    "\n",
    "1. 🔨 **Implémenter l’algorithme Q-Learning**\n",
    "   - Comprendre les étapes de mise à jour de la **Q-Table**.\n",
    "\n",
    "2. ⚙️ **Analyser les stratégies d'exploration et d'exploitation**\n",
    "   - Observer l’impact du **taux d’exploration (ε)** et de l'**exploitation** sur l’apprentissage.\n",
    "\n",
    "3. 📈 **Étudier la convergence des valeurs Q**\n",
    "   - Visualiser comment les valeurs Q évoluent et convergent vers une **politique optimale**.\n",
    "\n",
    "#### 🌍 Environnement d'expérimentation\n",
    "L’environnement **FrozenLake** de **OpenAI Gym** sera utilisé comme terrain d’expérimentation.  \n",
    "Il permettra d'illustrer concrètement **comment un agent apprend à optimiser ses décisions** en fonction des mises à jour successives de sa **Q-Table**.\n",
    "\n",
    "---\n",
    "\n",
    "🚀 À la fin de ce TP, vous serez capables de :  \n",
    "✅ Implémenter un agent Q-Learning  \n",
    "✅ Analyser son comportement d’apprentissage  \n",
    "✅ Ajuster les paramètres pour améliorer ses performances"
   ]
  },
  {
   "cell_type": "code",
   "execution_count": 1,
   "metadata": {},
   "outputs": [],
   "source": [
    "import numpy as np\n",
    "import gymnasium as gym"
   ]
  },
  {
   "cell_type": "markdown",
   "metadata": {},
   "source": [
    "- **Exploration de l'Environnement FrozenLake**"
   ]
  },
  {
   "cell_type": "code",
   "execution_count": 2,
   "metadata": {},
   "outputs": [
    {
     "name": "stdout",
     "output_type": "stream",
     "text": [
      "Espace d'états: Discrete(16)\n",
      "Espace d'actions: Discrete(4)\n"
     ]
    }
   ],
   "source": [
    "# Charger l’environnement FrozenLake\n",
    "env = gym.make(\"FrozenLake-v1\", is_slippery=True, render_mode=\"ansi\")\n",
    "print(\"Espace d'états:\", env.observation_space)\n",
    "print(\"Espace d'actions:\", env.action_space)"
   ]
  },
  {
   "cell_type": "code",
   "execution_count": 3,
   "metadata": {},
   "outputs": [
    {
     "name": "stdout",
     "output_type": "stream",
     "text": [
      "Épisode 1, État: 0, Action: 1, Récompense: 0.0\n",
      "Épisode 1, État: 0, Action: 2, Récompense: 0.0\n",
      "Épisode 1, État: 1, Action: 2, Récompense: 0.0\n",
      "Épisode 2, État: 0, Action: 1, Récompense: 0.0\n",
      "Épisode 2, État: 0, Action: 2, Récompense: 0.0\n",
      "Épisode 2, État: 0, Action: 1, Récompense: 0.0\n",
      "Épisode 2, État: 4, Action: 0, Récompense: 0.0\n",
      "Épisode 2, État: 8, Action: 1, Récompense: 0.0\n",
      "Épisode 3, État: 0, Action: 0, Récompense: 0.0\n",
      "Épisode 3, État: 4, Action: 3, Récompense: 0.0\n",
      "Épisode 3, État: 4, Action: 3, Récompense: 0.0\n",
      "Épisode 3, État: 0, Action: 1, Récompense: 0.0\n",
      "Épisode 3, État: 0, Action: 2, Récompense: 0.0\n",
      "Épisode 3, État: 0, Action: 2, Récompense: 0.0\n",
      "Épisode 3, État: 0, Action: 2, Récompense: 0.0\n",
      "Épisode 3, État: 1, Action: 1, Récompense: 0.0\n",
      "Épisode 4, État: 0, Action: 2, Récompense: 0.0\n",
      "Épisode 4, État: 4, Action: 0, Récompense: 0.0\n",
      "Épisode 4, État: 4, Action: 0, Récompense: 0.0\n",
      "Épisode 4, État: 0, Action: 3, Récompense: 0.0\n",
      "Épisode 4, État: 0, Action: 1, Récompense: 0.0\n",
      "Épisode 4, État: 4, Action: 3, Récompense: 0.0\n",
      "Épisode 5, État: 0, Action: 2, Récompense: 0.0\n",
      "Épisode 5, État: 1, Action: 3, Récompense: 0.0\n",
      "Épisode 5, État: 1, Action: 2, Récompense: 0.0\n",
      "Épisode 5, État: 2, Action: 2, Récompense: 0.0\n",
      "Épisode 5, État: 3, Action: 0, Récompense: 0.0\n"
     ]
    }
   ],
   "source": [
    "# Exécution d'une boucle d'interaction aléatoire\n",
    "num_episodes = 5\n",
    "for episode in range(num_episodes):\n",
    "    state = env.reset()[0]\n",
    "    done = False\n",
    "    while not done:\n",
    "        action = env.action_space.sample()  # Choix aléatoire d'une action\n",
    "        next_state, reward, done, _, _ = env.step(action)\n",
    "        print(f\"Épisode {episode+1}, État: {state}, Action: {action}, Récompense: {reward}\")\n",
    "        state = next_state"
   ]
  },
  {
   "cell_type": "markdown",
   "metadata": {},
   "source": [
    "- **Implémentation de la Q-Table**"
   ]
  },
  {
   "cell_type": "code",
   "execution_count": 4,
   "metadata": {},
   "outputs": [
    {
     "name": "stdout",
     "output_type": "stream",
     "text": [
      "\n",
      "Q-Table initiale :\n",
      " [[0. 0. 0. 0.]\n",
      " [0. 0. 0. 0.]\n",
      " [0. 0. 0. 0.]\n",
      " [0. 0. 0. 0.]\n",
      " [0. 0. 0. 0.]\n",
      " [0. 0. 0. 0.]\n",
      " [0. 0. 0. 0.]\n",
      " [0. 0. 0. 0.]\n",
      " [0. 0. 0. 0.]\n",
      " [0. 0. 0. 0.]\n",
      " [0. 0. 0. 0.]\n",
      " [0. 0. 0. 0.]\n",
      " [0. 0. 0. 0.]\n",
      " [0. 0. 0. 0.]\n",
      " [0. 0. 0. 0.]\n",
      " [0. 0. 0. 0.]]\n"
     ]
    }
   ],
   "source": [
    "num_states = env.observation_space.n\n",
    "num_actions = env.action_space.n\n",
    "q_table = np.zeros((num_states, num_actions))\n",
    "print(\"\\nQ-Table initiale :\\n\", q_table)"
   ]
  },
  {
   "cell_type": "markdown",
   "metadata": {},
   "source": [
    "- **Implémentation du Q-Learning**"
   ]
  },
  {
   "cell_type": "code",
   "execution_count": 5,
   "metadata": {},
   "outputs": [],
   "source": [
    "alpha = 0.1 \n",
    "gamma = 0.99  # Facteur de discount\n",
    "epsilon = 1.0  # Probabilité d'exploration\n",
    "epsilon_decay = 0.99  # Réduction progressive d'epsilon\n",
    "epsilon_min = 0.01  # Valeur minimale d'epsilon\n",
    "num_episodes = 5000  # Nombre d'épisodes"
   ]
  },
  {
   "cell_type": "code",
   "execution_count": 6,
   "metadata": {},
   "outputs": [
    {
     "name": "stdout",
     "output_type": "stream",
     "text": [
      "\n",
      "Q-Table après apprentissage :\n",
      " [[0. 0. 0. 0.]\n",
      " [0. 0. 0. 0.]\n",
      " [0. 0. 0. 0.]\n",
      " [0. 0. 0. 0.]\n",
      " [0. 0. 0. 0.]\n",
      " [0. 0. 0. 0.]\n",
      " [0. 0. 0. 0.]\n",
      " [0. 0. 0. 0.]\n",
      " [0. 0. 0. 0.]\n",
      " [0. 0. 0. 0.]\n",
      " [0. 0. 0. 0.]\n",
      " [0. 0. 0. 0.]\n",
      " [0. 0. 0. 0.]\n",
      " [0. 0. 0. 0.]\n",
      " [0. 0. 0. 0.]\n",
      " [0. 0. 0. 0.]]\n"
     ]
    }
   ],
   "source": [
    "for episode in range(num_episodes):\n",
    "    state = env.reset()[0]\n",
    "    done = False\n",
    "    while not done:\n",
    "        if np.random.rand() < epsilon:\n",
    "            action = env.action_space.sample() \n",
    "        else:\n",
    "            action = np.argmax(q_table[state]) \n",
    "        next_state, reward, done, _, _ = env.step(action)\n",
    "        q_table[state, action] = q_table[state, action] + alpha * (reward + gamma * np.max(q_table[next_state]) - q_table[state, action])\n",
    "        state = next_state\n",
    "    epsilon = max(epsilon_min, epsilon * epsilon_decay)\n",
    "print(\"\\nQ-Table après apprentissage :\\n\", q_table)"
   ]
  },
  {
   "cell_type": "markdown",
   "metadata": {},
   "source": [
    "- **Évaluation des Performances**"
   ]
  },
  {
   "cell_type": "code",
   "execution_count": 7,
   "metadata": {},
   "outputs": [
    {
     "name": "stdout",
     "output_type": "stream",
     "text": [
      "\n",
      "Taux de réussite après apprentissage : 0/100 (0.00%)\n"
     ]
    }
   ],
   "source": [
    "num_test_episodes = 100\n",
    "successes = 0\n",
    "\n",
    "for _ in range(num_test_episodes):\n",
    "    state = env.reset()[0]\n",
    "    done = False\n",
    "    while not done:\n",
    "        action = np.argmax(q_table[state])  \n",
    "        state, reward, done, _, _ = env.step(action)\n",
    "        if reward == 1:\n",
    "            successes += 1\n",
    "print(f\"\\nTaux de réussite après apprentissage : {successes}/{num_test_episodes} ({(successes/num_test_episodes)*100:.2f}%)\")"
   ]
  },
  {
   "cell_type": "code",
   "execution_count": null,
   "metadata": {},
   "outputs": [],
   "source": []
  },
  {
   "cell_type": "code",
   "execution_count": null,
   "metadata": {},
   "outputs": [],
   "source": []
  }
 ],
 "metadata": {
  "kernelspec": {
   "display_name": "Python 3 (ipykernel)",
   "language": "python",
   "name": "python3"
  },
  "language_info": {
   "codemirror_mode": {
    "name": "ipython",
    "version": 3
   },
   "file_extension": ".py",
   "mimetype": "text/x-python",
   "name": "python",
   "nbconvert_exporter": "python",
   "pygments_lexer": "ipython3",
   "version": "3.12.2"
  }
 },
 "nbformat": 4,
 "nbformat_minor": 4
}
